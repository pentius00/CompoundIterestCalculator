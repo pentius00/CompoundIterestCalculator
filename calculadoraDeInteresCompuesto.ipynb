{
  "nbformat": 4,
  "nbformat_minor": 0,
  "metadata": {
    "colab": {
      "provenance": [],
      "authorship_tag": "ABX9TyPegyW8KcdVgtlI29XVu7Oi",
      "include_colab_link": true
    },
    "kernelspec": {
      "name": "python3",
      "display_name": "Python 3"
    },
    "language_info": {
      "name": "python"
    }
  },
  "cells": [
    {
      "cell_type": "markdown",
      "metadata": {
        "id": "view-in-github",
        "colab_type": "text"
      },
      "source": [
        "<a href=\"https://colab.research.google.com/github/pentius00/CompoundIterestCalculator/blob/main/calculadoraDeInteresCompuesto.ipynb\" target=\"_parent\"><img src=\"https://colab.research.google.com/assets/colab-badge.svg\" alt=\"Open In Colab\"/></a>"
      ]
    },
    {
      "cell_type": "markdown",
      "source": [
        "# Programa para calcular el interés compuesto\n",
        "## La fórmula para el interés compuesto es A = P(1 + R/100)^t - P\n",
        "# donde:\n",
        "### A es la cantidad total\n",
        "### P es la cantidad principal\n",
        "### R es la tasa de interés\n",
        "### t es el tiempo en años, meses o días\n"
      ],
      "metadata": {
        "id": "PmtdYXY6HhSf"
      }
    },
    {
      "cell_type": "code",
      "source": [
        "# Solicitar la entrada del usuario\n",
        "cantidad_principal = int(input(\"Escriba la cantidad principal: \"))\n",
        "tasa_interes = float(input(\"Escriba la tasa de interés para el préstamo en porcentaje: \"))\n",
        "tiempo = int(input(\"Escriba el tiempo del préstamo: \"))\n",
        "unidad_tiempo = input(\"Escriba la unidad de tiempo (años, meses o días): \")\n",
        "\n",
        "# Definir la función que calcula el interés compuesto\n",
        "def interes_compuesto_calculadora(cantidad_principal, tasa_interes, tiempo, unidad_tiempo):\n",
        "    if unidad_tiempo == \"años\":\n",
        "        tiempo = tiempo\n",
        "    elif unidad_tiempo == \"meses\":\n",
        "        tiempo = tiempo / 12\n",
        "    elif unidad_tiempo == \"días\":\n",
        "        tiempo = tiempo / 365\n",
        "    else:\n",
        "        print(\"Unidad de tiempo no reconocida\")\n",
        "        return None\n",
        "    cantidad_total = cantidad_principal * (pow((1 + tasa_interes / 100), tiempo))\n",
        "    interes_compuesto = cantidad_total - cantidad_principal\n",
        "    cantidad_total = cantidad_principal + interes_compuesto\n",
        "    return cantidad_total, interes_compuesto\n",
        "\n",
        "# Calcular y mostrar el interés compuesto\n",
        "cantidad_total, interes_compuesto = interes_compuesto_calculadora(cantidad_principal, tasa_interes, tiempo, unidad_tiempo)\n",
        "if cantidad_total is not None:\n",
        "    print(f\"La cantidad total, incluyendo el interés compuesto, es: {cantidad_total:.2f}\")\n",
        "    print(f\"El interés compuesto antes de ser agregado a la cantidad principal es: {interes_compuesto:.2f}\")\n"
      ],
      "metadata": {
        "colab": {
          "base_uri": "https://localhost:8080/"
        },
        "id": "7cAyZ2SmKNqP",
        "outputId": "088358ee-1e84-4426-8bc7-4a03eb9936e8"
      },
      "execution_count": null,
      "outputs": [
        {
          "output_type": "stream",
          "name": "stdout",
          "text": [
            "Escriba la cantidad principal: 10\n",
            "Escriba la tasa de interés para el préstamo en porcentaje: 15\n",
            "Escriba el tiempo del préstamo: 20\n",
            "Escriba la unidad de tiempo (años, meses o días): meses\n",
            "La cantidad total, incluyendo el interés compuesto, es: 12.62\n",
            "El interés compuesto antes de ser agregado a la cantidad principal es: 2.62\n"
          ]
        }
      ]
    }
  ]
}